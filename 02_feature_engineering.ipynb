{
 "cells": [
  {
   "cell_type": "code",
   "execution_count": 1,
   "id": "17d9c1cc-02ae-4404-b311-aace3be7dc09",
   "metadata": {},
   "outputs": [],
   "source": [
    "import pandas as pd\n",
    "import numpy as np\n",
    "import matplotlib.pyplot as plt\n",
    "import seaborn as sns"
   ]
  },
  {
   "cell_type": "markdown",
   "id": "6ddc63e2-3083-4f2f-a653-6d74841004a0",
   "metadata": {},
   "source": [
    "### 02: Feature Engineering\n",
    "\n",
    "We applied several transformations to enhance the quality of our dataset for predictive modeling:\n",
    "\n",
    "- **Temporal features** (`days_since_start`, `week_of_year`, `vax_phase`) to capture time-driven effects.\n",
    "- **Log transformation** of skewed numeric columns to stabilize variance and help models learn better.\n",
    "- **Correlation filtering**: Dropped numeric features with >0.9 correlation to reduce multicollinearity and improve generalizability.\n",
    "\n",
    "This pipeline ensures our models can learn cleanly from independent signals without redundancy or noise."
   ]
  },
  {
   "cell_type": "code",
   "execution_count": 19,
   "id": "89b4635f-4bc9-4598-8ca0-5e7cb4c5ca07",
   "metadata": {},
   "outputs": [],
   "source": [
    "# Load contextual-imputed datasets (targets filled by XGBoost proxy models)\n",
    "target_variables = ['smoothed_wtested_positive_14d', 'smoothed_wcovid_vaccinated']\n",
    "\n",
    "data_paths = {\n",
    "    'smoothed_wtested_positive_14d': 'data/imputed_contextual_xgb_smoothed_wtested_positive_14d.csv',\n",
    "    'smoothed_wcovid_vaccinated': 'data/imputed_contextual_xgb_smoothed_wcovid_vaccinated.csv'\n",
    "}\n",
    "\n",
    "datasets = {target: pd.read_csv(path) for target, path in data_paths.items()}"
   ]
  },
  {
   "cell_type": "code",
   "execution_count": 21,
   "id": "7b108e85-2c3c-4891-b81e-5d0f979927d8",
   "metadata": {},
   "outputs": [],
   "source": [
    "# Step 1: Add Temporal Features\n",
    "def add_temporal_features(df):\n",
    "    df = df.copy()\n",
    "    df['time_value'] = pd.to_datetime(df['time_value'])\n",
    "    df['days_since_start'] = (df['time_value'] - df['time_value'].min()).dt.days\n",
    "    df['week_of_year'] = df['time_value'].dt.isocalendar().week\n",
    "    df['vax_phase'] = (df['time_value'] >= '2021-01-15').astype(int)\n",
    "    return df\n",
    "\n",
    "for target in target_variables:\n",
    "    datasets[target] = add_temporal_features(datasets[target])"
   ]
  },
  {
   "cell_type": "code",
   "execution_count": 23,
   "id": "4fa10aa2-cef0-414c-a4f2-4553c8907c1a",
   "metadata": {},
   "outputs": [],
   "source": [
    "# Step 2: Log-Transform Skewed Features\n",
    "def transform_skewed_features(df, threshold=1):\n",
    "    df = df.copy()\n",
    "    numeric_cols = df.select_dtypes(include=[float, int]).columns\n",
    "    skewed = df[numeric_cols].skew().loc[lambda x: abs(x) > threshold].index.tolist()\n",
    "    for col in skewed:\n",
    "        if col not in ['is_pseudo']:\n",
    "            df[f\"{col}_log\"] = np.log1p(df[col])\n",
    "    return df\n",
    "\n",
    "for target in target_variables:\n",
    "    datasets[target] = transform_skewed_features(datasets[target])"
   ]
  },
  {
   "cell_type": "code",
   "execution_count": 25,
   "id": "80e5858f-5f3d-474a-9031-e07838504028",
   "metadata": {},
   "outputs": [],
   "source": [
    "# Step 3: Drop Highly Correlated Features\n",
    "def drop_high_corr_features(df, threshold=0.9):\n",
    "    corr = df.select_dtypes(include=[float, int]).corr()\n",
    "    upper = corr.where(np.triu(np.ones(corr.shape), k=1).astype(bool))\n",
    "    to_drop = [col for col in upper.columns if any(upper[col].abs() > threshold)]\n",
    "    return df.drop(columns=to_drop), to_drop\n",
    "\n",
    "dropped_features = {}\n",
    "for target in target_variables:\n",
    "    df = datasets[target]\n",
    "    df, to_drop = drop_high_corr_features(df)\n",
    "    dropped_features[target] = to_drop\n",
    "    datasets[target] = df"
   ]
  },
  {
   "cell_type": "code",
   "execution_count": 27,
   "id": "39198eca-e142-4c9c-9a1d-636bc8ff9a62",
   "metadata": {},
   "outputs": [],
   "source": [
    "# Step 4: Finalize X and y\n",
    "final_data = {}\n",
    "for target in target_variables:\n",
    "    df = datasets[target]\n",
    "    drop_cols = ['geo_value', 'state', 'time_value', 'is_pseudo', target]\n",
    "    X = df.drop(columns=[col for col in drop_cols if col in df.columns])\n",
    "    y = df[target]\n",
    "    final_data[target] = (X, y)"
   ]
  },
  {
   "cell_type": "code",
   "execution_count": 31,
   "id": "5a741a9e-2097-4926-bb77-1d7012ff8367",
   "metadata": {},
   "outputs": [
    {
     "name": "stdout",
     "output_type": "stream",
     "text": [
      "Saved: data/final_X_y_smoothed_wtested_positive_14d.csv\n",
      "Saved: data/final_X_y_smoothed_wcovid_vaccinated.csv\n"
     ]
    }
   ],
   "source": [
    "# Step 5: Save Feature-Engineered Datasets\n",
    "for target in target_variables:\n",
    "    output_path = f\"data/final_X_y_{target}.csv\"\n",
    "    datasets[target].to_csv(output_path, index=False)\n",
    "    print(f\"Saved: {output_path}\")"
   ]
  }
 ],
 "metadata": {
  "kernelspec": {
   "display_name": "Python [conda env:base] *",
   "language": "python",
   "name": "conda-base-py"
  },
  "language_info": {
   "codemirror_mode": {
    "name": "ipython",
    "version": 3
   },
   "file_extension": ".py",
   "mimetype": "text/x-python",
   "name": "python",
   "nbconvert_exporter": "python",
   "pygments_lexer": "ipython3",
   "version": "3.12.2"
  }
 },
 "nbformat": 4,
 "nbformat_minor": 5
}
